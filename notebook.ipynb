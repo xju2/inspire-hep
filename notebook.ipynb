{
 "cells": [
  {
   "cell_type": "code",
   "execution_count": 21,
   "metadata": {},
   "outputs": [],
   "source": [
    "import requests\n",
    "from bs4 import BeautifulSoup\n",
    "from requests_html import AsyncHTMLSession\n",
    "from prettyprinter import pprint\n",
    "import bibtexparser\n",
    "import bib as bibHelper\n",
    "from bibtexparser.bwriter import BibTexWriter"
   ]
  },
  {
   "cell_type": "markdown",
   "metadata": {},
   "source": [
    "CDS URLs"
   ]
  },
  {
   "cell_type": "code",
   "execution_count": 2,
   "metadata": {},
   "outputs": [],
   "source": [
    "url = \"https://cds.cern.ch/record/2871986\"\n",
    "data = requests.get(url, timeout=20).text\n",
    "soup = BeautifulSoup(data, \"html.parser\")"
   ]
  },
  {
   "cell_type": "code",
   "execution_count": 12,
   "metadata": {},
   "outputs": [],
   "source": [
    "def get_cds_bibtext(cds_id: int):\n",
    "    \"\"\"Get the BibTeX entry from CDS.\"\"\"\n",
    "    url = f\"https://cds.cern.ch/record/{cds_id}/export/hx\"\n",
    "    data = requests.get(url, timeout=20).text\n",
    "    soup = BeautifulSoup(data, \"html.parser\")\n",
    "    bib_text = soup.find(\"pre\").get_text()\n",
    "    # removing whitespaces at the beiginning of a line.\n",
    "    # and convert double quotes to brakets.\n",
    "    # bib_text = \"\\n\".join([\" \" + line.strip().replace('\"', \"{\").replace('\"', \"}\") for line in bib_text.split(\"\\n\")])\n",
    "    return bib_text"
   ]
  },
  {
   "cell_type": "code",
   "execution_count": 13,
   "metadata": {},
   "outputs": [],
   "source": [
    "bib_text = get_cds_bibtext(2871986)"
   ]
  },
  {
   "cell_type": "code",
   "execution_count": 14,
   "metadata": {},
   "outputs": [
    {
     "name": "stdout",
     "output_type": "stream",
     "text": [
      "\n",
      "@techreport{Caillou:2871986,\n",
      "      author        = \"Caillou, Sylvain and Calafiura, Paolo and Farrell, Steven\n",
      "                       Andrew and Ju, Xiangyang and Murnane, Daniel Thomas and\n",
      "                       Pham, Minh Tuan and Rougier, Charline and Stark, Jan and\n",
      "                       Vallier, Alexis\",\n",
      "      collaboration = \"ATLAS\",\n",
      "      title         = \"{Physics Performance of the ATLAS GNN4ITk Track\n",
      "                       Reconstruction Chain}\",\n",
      "      institution   = \"CERN\",\n",
      "      reportNumber  = \"ATL-SOFT-PROC-2023-038\",\n",
      "      address       = \"Geneva\",\n",
      "      year          = \"2023\",\n",
      "      url           = \"https://cds.cern.ch/record/2871986\",\n",
      "}\n",
      "\n"
     ]
    }
   ],
   "source": [
    "print(bib_text)"
   ]
  },
  {
   "cell_type": "code",
   "execution_count": 19,
   "metadata": {},
   "outputs": [],
   "source": [
    "authors = bibHelper.get_author_list(bib_text)"
   ]
  },
  {
   "cell_type": "code",
   "execution_count": 20,
   "metadata": {},
   "outputs": [
    {
     "data": {
      "text/plain": [
       "['Sylvain Caillou',\n",
       " 'Paolo Calafiura',\n",
       " 'Steven\\nAndrew Farrell',\n",
       " 'Xiangyang Ju',\n",
       " 'Daniel Thomas Murnane',\n",
       " 'Minh Tuan Pham',\n",
       " 'Charline Rougier',\n",
       " 'Jan Stark',\n",
       " 'Alexis Vallier']"
      ]
     },
     "execution_count": 20,
     "metadata": {},
     "output_type": "execute_result"
    }
   ],
   "source": [
    "authors"
   ]
  },
  {
   "cell_type": "code",
   "execution_count": 22,
   "metadata": {},
   "outputs": [],
   "source": [
    "bib_writer = BibTexWriter()\n",
    "new_bib_tex = bib_writer.write(bibtexparser.loads(bib_text))"
   ]
  },
  {
   "cell_type": "code",
   "execution_count": 23,
   "metadata": {},
   "outputs": [
    {
     "name": "stdout",
     "output_type": "stream",
     "text": [
      "@techreport{Caillou:2871986,\n",
      " address = {Geneva},\n",
      " author = {Caillou, Sylvain and Calafiura, Paolo and Farrell, Steven\n",
      "Andrew and Ju, Xiangyang and Murnane, Daniel Thomas and\n",
      "Pham, Minh Tuan and Rougier, Charline and Stark, Jan and\n",
      "Vallier, Alexis},\n",
      " collaboration = {ATLAS},\n",
      " institution = {CERN},\n",
      " reportnumber = {ATL-SOFT-PROC-2023-038},\n",
      " title = {{Physics Performance of the ATLAS GNN4ITk Track\n",
      "Reconstruction Chain}},\n",
      " url = {https://cds.cern.ch/record/2871986},\n",
      " year = {2023}\n",
      "}\n",
      "\n"
     ]
    }
   ],
   "source": [
    "print(new_bib_tex)"
   ]
  },
  {
   "cell_type": "code",
   "execution_count": 21,
   "metadata": {},
   "outputs": [],
   "source": [
    "table = soup.find_all(\"table\")[1]\n",
    "table_content = {}\n",
    "if table:\n",
    "    rows = table.find_all(\"tr\")\n",
    "    for ridx, row in enumerate(rows):\n",
    "        cells = row.find_all(\"td\")\n",
    "        if len(cells) != 2:\n",
    "            continue\n",
    "        key = cells[0].get_text().strip()\n",
    "        value = cells[1].get_text()\n",
    "        if value:\n",
    "            table_content[key] = value.strip()\n",
    "        else:\n",
    "            table_content[key] = \"N/A\""
   ]
  },
  {
   "cell_type": "code",
   "execution_count": 22,
   "metadata": {},
   "outputs": [
    {
     "name": "stdout",
     "output_type": "stream",
     "text": [
      "{\n",
      "    'Report number': 'ATL-SOFT-PROC-2023-038',\n",
      "    'Title': 'Physics Performance of the ATLAS GNN4ITk Track Reconstruction Chain',\n",
      "    'Author(s)':\n",
      "        'Caillou, Sylvain (Centre National de la Recherche Scientifique (FR)) '\n",
      "        '; Calafiura, Paolo (Lawrence Berkeley National Lab. (US)) ; Farrell, '\n",
      "        'Steven Andrew ; Ju, Xiangyang (Lawrence Berkeley National Lab. (US)) '\n",
      "        '; Murnane, Daniel Thomas (Lawrence Berkeley National Lab. (US)) ; '\n",
      "        'Pham, Minh Tuan (University of Wisconsin Madison (US)) ; Rougier, '\n",
      "        'Charline (Centre National de la Recherche Scientifique (FR)) ; '\n",
      "        'Stark, Jan (Centre National de la Recherche Scientifique (FR)) ; '\n",
      "        'Vallier, Alexis (Centre National de la Recherche Scientifique (FR))',\n",
      "    'Corporate \\nAuthor(s)': 'The ATLAS collaboration',\n",
      "    'Collaboration': 'ATLAS Collaboration',\n",
      "    'Imprint': '21 Sep 2023. - 7 p.',\n",
      "    'In:':\n",
      "        '26th International Conference on Computing in High Energy & Nuclear '\n",
      "        'Physics, Norfolk, Virginia, Us, 8 - 12 May 2023',\n",
      "    'Subject category': 'Particle Physics - Experiment',\n",
      "    'Accelerator/Facility, Experiment': 'CERN LHC ; ATLAS',\n",
      "    'Abstract':\n",
      "        'Particle tracking is vital for the ATLAS physics programs. To cope '\n",
      "        'with the increased number of particles in the High Luminosity LHC '\n",
      "        '(HL-LHC), ATLAS is building a new all-silicon Inner Tracker (ITk), '\n",
      "        'consisting of a Pixel and a Strip subdetector. At the same time, '\n",
      "        'ATLAS is developing new track reconstruction algorithms that can '\n",
      "        'operate in the HL-LHC dense environment. A track reconstruction '\n",
      "        'algorithm needs to solve two problems: track finding for building '\n",
      "        'track candidates and track fitting for obtaining track parameters of '\n",
      "        'those track candidates. Previously, we developed \\\\pipname, a '\n",
      "        'track-finding algorithm based on Graph Neural Network (GNN), and '\n",
      "        'achieved good track-finding performance under realistic HL-LHC '\n",
      "        'conditions. Our GNN pipeline relied only on the 3D spacepoint '\n",
      "        'positions. This work introduces heterogeneous GNN models to exploit '\n",
      "        'fully the subdetector dependent features of ITk data, improving the '\n",
      "        'performance of our \\\\pipname pipeline. In addition, we interfaced '\n",
      "        'our pipeline to the standard ATLAS track-fitting algorithm and data '\n",
      "        'model. With that, the \\\\pipname pipeline produces full-fledged track '\n",
      "        'candidates that can be used for any downstream analyses and compared '\n",
      "        'with the other track reconstruction algorithms.'\n",
      "}\n"
     ]
    }
   ],
   "source": [
    "pprint(table_content)"
   ]
  },
  {
   "cell_type": "code",
   "execution_count": 23,
   "metadata": {},
   "outputs": [],
   "source": [
    "def remove_instiution_name(authors: str):\n",
    "    \"\"\"Remove the institution name in parenthesis from the authors' names.\"\"\"\n",
    "    authors = authors.split(\";\")\n",
    "    authors = [author.split(\"(\")[0].strip() for author in authors]"
   ]
  },
  {
   "cell_type": "code",
   "execution_count": null,
   "metadata": {},
   "outputs": [],
   "source": []
  },
  {
   "cell_type": "code",
   "execution_count": 27,
   "metadata": {},
   "outputs": [],
   "source": [
    "bib_url = \"https://cds.cern.ch/record/2871986/export/hx\"\n",
    "bib_data = requests.get(bib_url, timeout=20).text\n",
    "bib_soup = BeautifulSoup(bib_data, \"html.parser\")\n",
    "bib_text = bib_soup.find(\"pre\").get_text()"
   ]
  },
  {
   "cell_type": "code",
   "execution_count": 29,
   "metadata": {},
   "outputs": [
    {
     "name": "stdout",
     "output_type": "stream",
     "text": [
      "\n",
      "@techreport{Caillou:2871986,\n",
      "      author        = \"Caillou, Sylvain and Calafiura, Paolo and Farrell, Steven\n",
      "                       Andrew and Ju, Xiangyang and Murnane, Daniel Thomas and\n",
      "                       Pham, Minh Tuan and Rougier, Charline and Stark, Jan and\n",
      "                       Vallier, Alexis\",\n",
      "      collaboration = \"ATLAS\",\n",
      "      title         = \"{Physics Performance of the ATLAS GNN4ITk Track\n",
      "                       Reconstruction Chain}\",\n",
      "      institution   = \"CERN\",\n",
      "      reportNumber  = \"ATL-SOFT-PROC-2023-038\",\n",
      "      address       = \"Geneva\",\n",
      "      year          = \"2023\",\n",
      "      url           = \"https://cds.cern.ch/record/2871986\",\n",
      "}\n",
      "\n"
     ]
    }
   ],
   "source": [
    "print(bib_text)"
   ]
  },
  {
   "cell_type": "code",
   "execution_count": 30,
   "metadata": {},
   "outputs": [],
   "source": [
    "def get_cds_bibtext(cds_id: int):\n",
    "    \"\"\"Get the BibTeX entry from CDS.\"\"\"\n",
    "    url = f\"https://cds.cern.ch/record/{cds_id}/export/hx\"\n",
    "    data = requests.get(url, timeout=20).text\n",
    "    soup = BeautifulSoup(data, \"html.parser\")\n",
    "    bib_text = soup.find(\"pre\").get_text()\n",
    "    return bib_text"
   ]
  },
  {
   "cell_type": "code",
   "execution_count": 25,
   "metadata": {},
   "outputs": [],
   "source": [
    "title = table_content.get(\"Title\")\n",
    "authors = remove_instiution_name(table_content.get(\"Author(s)\"))\n",
    "journal_ref = table_content.get(\"Report number\")\n",
    "paper_doi = \"N/A\"\n",
    "category = \"hep-ex\"\n",
    "preprint_date = table_content.get(\"Imprint\").split(\".\")[0]\n",
    "cite_count = \"N/A\"\n",
    "\n",
    "paper_data = {\n",
    "    \"texkeys\": \"\",\n",
    "    \"citation_count\": -1,\n",
    "    \"citation_count_without_self_citations\": -1,\n",
    "    \"doi\": paper_doi,\n",
    "    \"arxiv_eprints\": \"N/A\",\n",
    "    \"arxiv_category\": category,\n",
    "    \"preprint_date\": preprint_date,\n",
    "    \"title\": title,\n",
    "    \"bibtex\": get_cds_bibtext(2871986),\n",
    "    \"inspire_id\": \"N/A\",\n",
    "    \"authors\": authors,\n",
    "    \"cite_info\": journal_ref,\n",
    "}"
   ]
  },
  {
   "cell_type": "code",
   "execution_count": null,
   "metadata": {},
   "outputs": [],
   "source": []
  },
  {
   "cell_type": "code",
   "execution_count": 23,
   "metadata": {},
   "outputs": [
    {
     "data": {
      "text/plain": [
       "'https://inspirehep.net/api/literature/2759110?format=bibtex'"
      ]
     },
     "execution_count": 23,
     "metadata": {},
     "output_type": "execute_result"
    }
   ],
   "source": [
    "recid = \"2759110\"\n",
    "inspire_api = f\"https://inspirehep.net/api/literature/{recid}\"\n",
    "data = requests.get(inspire_api).json()\n",
    "bibtex_url = data[\"links\"][\"bibtex\"]\n",
    "bibtex_url"
   ]
  },
  {
   "cell_type": "code",
   "execution_count": 24,
   "metadata": {},
   "outputs": [
    {
     "data": {
      "text/plain": [
       "b'@inproceedings{Huang:2024voo,\\n    author = \"Huang, Andris and Melkani, Yash and Calafiura, Paolo and Lazar, Alina and Murnane, Daniel Thomas and Pham, Minh-Tuan and Ju, Xiangyang\",\\n    title = \"{A Language Model for Particle Tracking}\",\\n    booktitle = \"{Connecting The Dots 2023}\",\\n    eprint = \"2402.10239\",\\n    archivePrefix = \"arXiv\",\\n    primaryClass = \"hep-ph\",\\n    reportNumber = \"PROC-CTD2023-33\",\\n    month = \"2\",\\n    year = \"2024\"\\n}\\n'"
      ]
     },
     "execution_count": 24,
     "metadata": {},
     "output_type": "execute_result"
    }
   ],
   "source": [
    "bibtex = requests.get(bibtex_url, timeout=20).content\n",
    "bibtex"
   ]
  },
  {
   "cell_type": "code",
   "execution_count": 25,
   "metadata": {},
   "outputs": [
    {
     "data": {
      "text/plain": [
       "1"
      ]
     },
     "execution_count": 25,
     "metadata": {},
     "output_type": "execute_result"
    }
   ],
   "source": [
    "data[\"metadata\"][\"citation_count\"]"
   ]
  },
  {
   "cell_type": "code",
   "execution_count": 4,
   "metadata": {},
   "outputs": [],
   "source": [
    "url = \"https://arxiv.org/abs/2210.12247\"\n",
    "data = requests.get(url).text\n",
    "soup = BeautifulSoup(data, \"html.parser\")"
   ]
  },
  {
   "cell_type": "code",
   "execution_count": 26,
   "metadata": {},
   "outputs": [
    {
     "data": {
      "text/plain": [
       "['xiangyang Ju',\n",
       " 'Yunsong Wang',\n",
       " 'Daniel Murnane',\n",
       " 'Nicholas Choma',\n",
       " 'Steven Farrell',\n",
       " 'Paolo Calafiura']"
      ]
     },
     "execution_count": 26,
     "metadata": {},
     "output_type": "execute_result"
    }
   ],
   "source": [
    "[x.text for x in soup.find_all(\"div\", \"authors\")[0].find_all(\"a\")]"
   ]
  },
  {
   "cell_type": "code",
   "execution_count": 22,
   "metadata": {},
   "outputs": [
    {
     "data": {
      "text/plain": [
       "'Benchmarking GPU and TPU Performance with Graph Neural Networks'"
      ]
     },
     "execution_count": 22,
     "metadata": {},
     "output_type": "execute_result"
    }
   ],
   "source": [
    "soup.find_all(\"h1\", \"title mathjax\")[0].contents[1]"
   ]
  },
  {
   "cell_type": "code",
   "execution_count": 27,
   "metadata": {},
   "outputs": [
    {
     "data": {
      "text/plain": [
       "[]"
      ]
     },
     "execution_count": 27,
     "metadata": {},
     "output_type": "execute_result"
    }
   ],
   "source": [
    "soup.find_all(\"td\", \"tablecell jref\")"
   ]
  },
  {
   "cell_type": "code",
   "execution_count": 55,
   "metadata": {},
   "outputs": [
    {
     "data": {
      "text/plain": [
       "'CMS-SUS-19-005, CERN-EP-2019-180, Eur. Phys. J. C 80 (2020) 3'"
      ]
     },
     "execution_count": 55,
     "metadata": {},
     "output_type": "execute_result"
    }
   ],
   "source": [
    "journal_ref_list = soup.find_all(\"td\", \"tablecell jref\")\n",
    "journal_refs = \", \".join([x.get_text() for x in journal_ref_list])\n",
    "journal_refs"
   ]
  },
  {
   "cell_type": "code",
   "execution_count": 53,
   "metadata": {},
   "outputs": [
    {
     "data": {
      "text/plain": [
       "'CMS-SUS-19-005, CERN-EP-2019-180,Eur. Phys. J. C 80 (2020) 3'"
      ]
     },
     "execution_count": 53,
     "metadata": {},
     "output_type": "execute_result"
    }
   ],
   "source": [
    "journal_refs"
   ]
  },
  {
   "cell_type": "code",
   "execution_count": 56,
   "metadata": {},
   "outputs": [
    {
     "data": {
      "text/plain": [
       "[<td class=\"tablecell label\">Comments:</td>,\n",
       " <td class=\"tablecell label\">Subjects:</td>,\n",
       " <td class=\"tablecell label\">Report number:</td>,\n",
       " <td class=\"tablecell label\">Cite as:</td>,\n",
       " <td class=\"tablecell label\"> </td>,\n",
       " <td class=\"tablecell label\"> </td>,\n",
       " <td class=\"tablecell label\">Journal reference:</td>,\n",
       " <td class=\"tablecell label\">\n",
       " <abbr title=\"Digital Object Identifier\">Related DOI</abbr>:\n",
       "           </td>]"
      ]
     },
     "execution_count": 56,
     "metadata": {},
     "output_type": "execute_result"
    }
   ],
   "source": [
    "soup.find_all(\"td\", \"tablecell label\")"
   ]
  },
  {
   "cell_type": "code",
   "execution_count": 93,
   "metadata": {},
   "outputs": [
    {
     "data": {
      "text/plain": [
       "'https://doi.org/10.1140/epjc/s10052-019-7493-x'"
      ]
     },
     "execution_count": 93,
     "metadata": {},
     "output_type": "execute_result"
    }
   ],
   "source": [
    "soup.find_all(\"td\", \"tablecell label\")[7].next_sibling.next_sibling.find_all(\"a\")[0].get(\"href\")"
   ]
  },
  {
   "cell_type": "code",
   "execution_count": 96,
   "metadata": {},
   "outputs": [
    {
     "data": {
      "text/plain": [
       "'\\nRelated DOI:\\n          '"
      ]
     },
     "execution_count": 96,
     "metadata": {},
     "output_type": "execute_result"
    }
   ],
   "source": [
    "soup.find_all(\"td\", \"tablecell label\")[7].text"
   ]
  },
  {
   "cell_type": "code",
   "execution_count": 63,
   "metadata": {},
   "outputs": [
    {
     "data": {
      "text/plain": [
       "[<span class=\"descriptor\">Title:</span>,\n",
       " <span class=\"descriptor\">Authors:</span>,\n",
       " <span class=\"descriptor\">Abstract:</span>,\n",
       " <span class=\"descriptor\">Full-text links:</span>]"
      ]
     },
     "execution_count": 63,
     "metadata": {},
     "output_type": "execute_result"
    }
   ],
   "source": [
    "soup.find_all(\"span\", \"descriptor\")"
   ]
  },
  {
   "cell_type": "code",
   "execution_count": 76,
   "metadata": {},
   "outputs": [
    {
     "data": {
      "text/plain": [
       "str"
      ]
     },
     "execution_count": 76,
     "metadata": {},
     "output_type": "execute_result"
    }
   ],
   "source": [
    "j = soup.find_all(\"span\", \"descriptor\")[0]\n",
    "type(j.next_sibling.get_text())"
   ]
  },
  {
   "cell_type": "code",
   "execution_count": 66,
   "metadata": {},
   "outputs": [
    {
     "data": {
      "text/plain": [
       "'CMS Collaboration'"
      ]
     },
     "execution_count": 66,
     "metadata": {},
     "output_type": "execute_result"
    }
   ],
   "source": [
    "soup.find_all(\"span\", \"descriptor\")[1].next_sibling.contents[0]"
   ]
  },
  {
   "cell_type": "code",
   "execution_count": 77,
   "metadata": {},
   "outputs": [
    {
     "data": {
      "text/plain": [
       "'CMS Collaboration'"
      ]
     },
     "execution_count": 77,
     "metadata": {},
     "output_type": "execute_result"
    }
   ],
   "source": [
    "soup.find_all(\"span\", \"descriptor\")[1].next_sibling.get_text()"
   ]
  },
  {
   "cell_type": "code",
   "execution_count": 70,
   "metadata": {},
   "outputs": [
    {
     "data": {
      "text/plain": [
       "'Two related searches for phenomena beyond the standard model (BSM) are performed using events with hadronic jets and significant transverse momentum imbalance. The results are based on a sample of proton-proton collisions at a center-of-mass energy of 13 TeV, collected by the CMS experiment at the LHC in 2016-2018 and corresponding to an integrated luminosity of 137 fb$^{-1}$. The first search is inclusive, based on signal regions defined by the hadronic energy in the event, the jet multiplicity, the number of jets identified as originating from bottom quarks, and the value of the kinematic variable $M_\\\\mathrm{T2}$ for events with at least two jets. For events with exactly one jet, the transverse momentum of the jet is used instead. The second search looks in addition for disappearing tracks produced by BSM long-lived charged particles that decay within the volume of the tracking detector. No excess event yield is observed above the predicted standard model background. This is used to constrain a range of BSM models that predict the following: the pair production of gluinos and squarks in the context of supersymmetry models conserving $R$-parity, with or without intermediate long-lived charginos produced in the decay chain; the resonant production of a colored scalar state decaying to a massive Dirac fermion and a quark; or the pair production of scalar and vector leptoquarks each decaying to a neutrino and a top, bottom, or light-flavor quark. In most of the cases, the results obtained are the most stringent constraints to date.\\n    '"
      ]
     },
     "execution_count": 70,
     "metadata": {},
     "output_type": "execute_result"
    }
   ],
   "source": [
    "soup.find_all(\"span\", \"descriptor\")[2].next_sibling.text"
   ]
  },
  {
   "cell_type": "code",
   "execution_count": 74,
   "metadata": {},
   "outputs": [
    {
     "data": {
      "text/plain": [
       "<ul>\n",
       "<div hidden=\"\" id=\"download-button-info\">\n",
       "Download a PDF of the paper titled Searches for physics beyond the standard model with the $M_\\mathrm{T2}$ variable in hadronic final states with and without disappearing tracks in proton-proton collisions at $\\sqrt{s} =$ 13 TeV, by CMS Collaboration</div><li><a accesskey=\"f\" aria-describedby=\"download-button-info\" class=\"abs-button download-pdf\" href=\"/pdf/1909.03460\">Download PDF</a></li><li><a class=\"abs-button download-eprint\" href=\"/src/1909.03460\">TeX Source</a></li><li><a class=\"abs-button download-format\" href=\"/format/1909.03460\">Other Formats</a></li></ul>"
      ]
     },
     "execution_count": 74,
     "metadata": {},
     "output_type": "execute_result"
    }
   ],
   "source": [
    "soup.find_all(\"span\", \"descriptor\")[3].next_sibling.next_sibling.next_sibling.next_sibling"
   ]
  },
  {
   "cell_type": "code",
   "execution_count": 109,
   "metadata": {},
   "outputs": [
    {
     "data": {
      "text/plain": [
       "'High Energy Physics - Experiment (hep-ex)'"
      ]
     },
     "execution_count": 109,
     "metadata": {},
     "output_type": "execute_result"
    }
   ],
   "source": [
    "soup.find_all(\"span\", \"primary-subject\")[0].text"
   ]
  },
  {
   "cell_type": "code",
   "execution_count": 110,
   "metadata": {},
   "outputs": [
    {
     "data": {
      "text/plain": [
       "'hep-ex'"
      ]
     },
     "execution_count": 110,
     "metadata": {},
     "output_type": "execute_result"
    }
   ],
   "source": [
    "import re\n",
    "a = soup.find_all(\"span\", \"primary-subject\")[0].text\n",
    "# find str inside ()\n",
    "re.search(r'\\((.*?)\\)', a).group(1)"
   ]
  },
  {
   "cell_type": "code",
   "execution_count": 113,
   "metadata": {},
   "outputs": [
    {
     "data": {
      "text/plain": [
       "'\\n  [Submitted on 8 Sep 2019 (v1), last revised 7 Jan 2020 (this version, v2)]'"
      ]
     },
     "execution_count": 113,
     "metadata": {},
     "output_type": "execute_result"
    }
   ],
   "source": [
    "soup.find_all(\"div\", \"dateline\")[0].text"
   ]
  },
  {
   "cell_type": "code",
   "execution_count": 128,
   "metadata": {},
   "outputs": [
    {
     "name": "stdout",
     "output_type": "stream",
     "text": [
      "\n",
      "Submission history From: The CMS Collaboration [view email]       [v1]\n",
      "        Sun, 8 Sep 2019 13:22:01 UTC (6,664 KB)\n",
      "[v2]\n",
      "        Tue, 7 Jan 2020 13:34:15 UTC (6,665 KB)\n",
      "\n"
     ]
    }
   ],
   "source": [
    "a = soup.find_all(\"div\", \"submission-history\")[0].text\n",
    "print(a)\n",
    "# find the date in the string, date is in the format \"dd mm yyyy\"\n",
    "\n"
   ]
  },
  {
   "cell_type": "code",
   "execution_count": 133,
   "metadata": {},
   "outputs": [
    {
     "data": {
      "text/plain": [
       "'8 Sep 2019'"
      ]
     },
     "execution_count": 133,
     "metadata": {},
     "output_type": "execute_result"
    }
   ],
   "source": [
    "re.search(r\"(\\d+ \\w+ \\d+)\", soup.find_all(\"div\", \"submission-history\")[0].text).group(1)"
   ]
  },
  {
   "cell_type": "code",
   "execution_count": 134,
   "metadata": {},
   "outputs": [],
   "source": [
    "arxiv_index = \"1909.03460\"\n",
    "cite_url = f\"https://scholar.google.com/scholar?q=arXiv:{arxiv_index}\"\n",
    "cite_data = requests.get(cite_url, timeout=20).text\n",
    "cite_soup = BeautifulSoup(cite_data, \"html.parser\")\n",
    "cite_count = cite_soup.find_all(\"div\", \"gs_ab_mdw\")[0].text"
   ]
  },
  {
   "cell_type": "code",
   "execution_count": 144,
   "metadata": {},
   "outputs": [
    {
     "data": {
      "text/plain": [
       "126"
      ]
     },
     "execution_count": 144,
     "metadata": {},
     "output_type": "execute_result"
    }
   ],
   "source": [
    "b = [x for x in cite_soup.find_all(\"a\") if \"Cited by\" in x.text]\n",
    "int(b[0].text.split()[-1])"
   ]
  },
  {
   "cell_type": "code",
   "execution_count": 142,
   "metadata": {},
   "outputs": [
    {
     "data": {
      "text/plain": [
       "[<a href=\"/scholar?cites=6530631809825731064&amp;as_sdt=2005&amp;sciodt=0,5&amp;hl=en&amp;oe=ASCII\">Cited by 126</a>]"
      ]
     },
     "execution_count": 142,
     "metadata": {},
     "output_type": "execute_result"
    }
   ],
   "source": [
    "b[0].text.split()[-1]"
   ]
  },
  {
   "cell_type": "code",
   "execution_count": 145,
   "metadata": {},
   "outputs": [
    {
     "data": {
      "text/plain": [
       "[<td class=\"tablecell label\">Comments:</td>,\n",
       " <td class=\"tablecell label\">Subjects:</td>,\n",
       " <td class=\"tablecell label\">Report number:</td>,\n",
       " <td class=\"tablecell label\">Cite as:</td>,\n",
       " <td class=\"tablecell label\"> </td>,\n",
       " <td class=\"tablecell label\"> </td>,\n",
       " <td class=\"tablecell label\">Journal reference:</td>,\n",
       " <td class=\"tablecell label\">\n",
       " <abbr title=\"Digital Object Identifier\">Related DOI</abbr>:\n",
       "           </td>]"
      ]
     },
     "execution_count": 145,
     "metadata": {},
     "output_type": "execute_result"
    }
   ],
   "source": [
    "soup.find_all(\"td\", \"tablecell label\")"
   ]
  },
  {
   "cell_type": "code",
   "execution_count": 153,
   "metadata": {},
   "outputs": [
    {
     "name": "stdout",
     "output_type": "stream",
     "text": [
      "Comments: <class 'str'>\n",
      "Subjects: <class 'str'>\n",
      "Report number: <class 'str'>\n",
      "Cite as: <class 'str'>\n",
      "  <class 'str'>\n",
      "  <class 'str'>\n",
      "Journal reference: <class 'str'>\n",
      "Eur. Phys. J. C 80 (2020) 3\n",
      "\n",
      "\n",
      "HERE\n",
      "\n",
      "Related DOI:\n",
      "           <class 'str'>\n"
     ]
    }
   ],
   "source": [
    "for label in soup.find_all(\"td\", \"tablecell label\"):\n",
    "    label_text = label.get_text()\n",
    "    print(label_text, type(label_text))\n",
    "    if \"Journal\" in label_text:\n",
    "        print(label.next_sibling.next_sibling.get_text())\n",
    "        print(label.next_sibling)\n",
    "        print(\"HERE\")\n",
    "        journal_ref = label.next_sibling.next_sibling.get_text()\n",
    "    if \"DOI\" in label_text:\n",
    "        paper_doi = label.next_sibling.next_sibling.get_text()"
   ]
  },
  {
   "cell_type": "code",
   "execution_count": 166,
   "metadata": {},
   "outputs": [
    {
     "data": {
      "text/plain": [
       "'https://doi.org/10.1140/epjc/s10052-019-7493-x'"
      ]
     },
     "execution_count": 166,
     "metadata": {},
     "output_type": "execute_result"
    }
   ],
   "source": [
    "soup.find_all(\"td\", \"tablecell label\")[-1].next_sibling.next_sibling.find_all(\"a\")[0].get(\"href\")"
   ]
  },
  {
   "cell_type": "code",
   "execution_count": 173,
   "metadata": {},
   "outputs": [],
   "source": []
  },
  {
   "cell_type": "code",
   "execution_count": 189,
   "metadata": {},
   "outputs": [],
   "source": [
    "\n",
    "inspire_url = f\"https://inspirehep.net/arxiv/{arxiv_index}\"\n",
    "asession = AsyncHTMLSession()\n",
    "r = await asession.get(inspire_url)"
   ]
  },
  {
   "cell_type": "code",
   "execution_count": 32,
   "metadata": {},
   "outputs": [
    {
     "ename": "RuntimeError",
     "evalue": "asyncio.run() cannot be called from a running event loop",
     "output_type": "error",
     "traceback": [
      "\u001b[0;31m---------------------------------------------------------------------------\u001b[0m",
      "\u001b[0;31mRuntimeError\u001b[0m                              Traceback (most recent call last)",
      "Cell \u001b[0;32mIn[32], line 11\u001b[0m\n\u001b[1;32m      8\u001b[0m     new_url \u001b[38;5;241m=\u001b[39m \u001b[38;5;28;01mawait\u001b[39;00m asession\u001b[38;5;241m.\u001b[39mget(url)\n\u001b[1;32m      9\u001b[0m     \u001b[38;5;28;01mreturn\u001b[39;00m new_url\u001b[38;5;241m.\u001b[39murl\u001b[38;5;241m.\u001b[39msplit(\u001b[38;5;124m\"\u001b[39m\u001b[38;5;124m/\u001b[39m\u001b[38;5;124m\"\u001b[39m)[\u001b[38;5;241m-\u001b[39m\u001b[38;5;241m1\u001b[39m]\n\u001b[0;32m---> 11\u001b[0m inspire_id \u001b[38;5;241m=\u001b[39m \u001b[43masyncio\u001b[49m\u001b[38;5;241;43m.\u001b[39;49m\u001b[43mrun\u001b[49m\u001b[43m(\u001b[49m\u001b[43mget_inspire_id\u001b[49m\u001b[43m(\u001b[49m\u001b[43minspire_url\u001b[49m\u001b[43m)\u001b[49m\u001b[43m)\u001b[49m\n",
      "File \u001b[0;32m/opt/homebrew/Cellar/python@3.12/3.12.1_1/Frameworks/Python.framework/Versions/3.12/lib/python3.12/asyncio/runners.py:190\u001b[0m, in \u001b[0;36mrun\u001b[0;34m(main, debug, loop_factory)\u001b[0m\n\u001b[1;32m    161\u001b[0m \u001b[38;5;250m\u001b[39m\u001b[38;5;124;03m\"\"\"Execute the coroutine and return the result.\u001b[39;00m\n\u001b[1;32m    162\u001b[0m \n\u001b[1;32m    163\u001b[0m \u001b[38;5;124;03mThis function runs the passed coroutine, taking care of\u001b[39;00m\n\u001b[0;32m   (...)\u001b[0m\n\u001b[1;32m    186\u001b[0m \u001b[38;5;124;03m    asyncio.run(main())\u001b[39;00m\n\u001b[1;32m    187\u001b[0m \u001b[38;5;124;03m\"\"\"\u001b[39;00m\n\u001b[1;32m    188\u001b[0m \u001b[38;5;28;01mif\u001b[39;00m events\u001b[38;5;241m.\u001b[39m_get_running_loop() \u001b[38;5;129;01mis\u001b[39;00m \u001b[38;5;129;01mnot\u001b[39;00m \u001b[38;5;28;01mNone\u001b[39;00m:\n\u001b[1;32m    189\u001b[0m     \u001b[38;5;66;03m# fail fast with short traceback\u001b[39;00m\n\u001b[0;32m--> 190\u001b[0m     \u001b[38;5;28;01mraise\u001b[39;00m \u001b[38;5;167;01mRuntimeError\u001b[39;00m(\n\u001b[1;32m    191\u001b[0m         \u001b[38;5;124m\"\u001b[39m\u001b[38;5;124masyncio.run() cannot be called from a running event loop\u001b[39m\u001b[38;5;124m\"\u001b[39m)\n\u001b[1;32m    193\u001b[0m \u001b[38;5;28;01mwith\u001b[39;00m Runner(debug\u001b[38;5;241m=\u001b[39mdebug, loop_factory\u001b[38;5;241m=\u001b[39mloop_factory) \u001b[38;5;28;01mas\u001b[39;00m runner:\n\u001b[1;32m    194\u001b[0m     \u001b[38;5;28;01mreturn\u001b[39;00m runner\u001b[38;5;241m.\u001b[39mrun(main)\n",
      "\u001b[0;31mRuntimeError\u001b[0m: asyncio.run() cannot be called from a running event loop"
     ]
    }
   ],
   "source": [
    "import asyncio\n",
    "\n",
    "arxiv_index = \"1909.03460\"\n",
    "inspire_url = f\"https://inspirehep.net/arxiv/{arxiv_index}\"\n",
    "\n",
    "async def get_inspire_id(url):\n",
    "    asession = AsyncHTMLSession()\n",
    "    new_url = await asession.get(url)\n",
    "    return new_url.url.split(\"/\")[-1]\n",
    "\n",
    "inspire_id = asyncio.run(get_inspire_id(inspire_url))"
   ]
  },
  {
   "cell_type": "code",
   "execution_count": null,
   "metadata": {},
   "outputs": [],
   "source": []
  }
 ],
 "metadata": {
  "kernelspec": {
   "display_name": ".venv",
   "language": "python",
   "name": "python3"
  },
  "language_info": {
   "codemirror_mode": {
    "name": "ipython",
    "version": 3
   },
   "file_extension": ".py",
   "mimetype": "text/x-python",
   "name": "python",
   "nbconvert_exporter": "python",
   "pygments_lexer": "ipython3",
   "version": "3.12.1"
  }
 },
 "nbformat": 4,
 "nbformat_minor": 2
}
